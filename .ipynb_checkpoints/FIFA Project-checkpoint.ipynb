{
 "cells": [
  {
   "cell_type": "markdown",
   "id": "b3f3422e",
   "metadata": {},
   "source": [
    "## FIFA Project\n",
    "\n",
    "Tiene como objetivo estudiar y prácticar diferentes técnicas de aprendizaje no supervisado con la base de datos del videojuego FIFA.\n",
    "\n",
    "Además, antes de llegar a la etapa de entrenamiento del modelo, realizaré el preprocesado y análisis exploratorio del Dataset. También aplicaré en el último apartado técnicas de visualización de la información con mapas."
   ]
  },
  {
   "cell_type": "markdown",
   "id": "7fce8553",
   "metadata": {},
   "source": [
    "### Preprocesado"
   ]
  },
  {
   "cell_type": "code",
   "execution_count": 1,
   "id": "6bf3da9b",
   "metadata": {},
   "outputs": [],
   "source": [
    "import pandas as pd\n",
    "import numpy as np"
   ]
  },
  {
   "cell_type": "code",
   "execution_count": 9,
   "id": "b9db32c9",
   "metadata": {},
   "outputs": [
    {
     "data": {
      "text/plain": [
       "(18207, 88)"
      ]
     },
     "execution_count": 9,
     "metadata": {},
     "output_type": "execute_result"
    }
   ],
   "source": [
    "# Cargamos el dataset subido a github\n",
    "data = pd.read_csv(\"https://raw.githubusercontent.com/josinho93/FIFA-Proyect/main/data/Data%20Fifa.csv\", index_col =\"Unnamed: 0\" )\n",
    "\n",
    "# Comprobamos su dimensión\n",
    "data.shape"
   ]
  },
  {
   "cell_type": "markdown",
   "id": "3b53789d",
   "metadata": {},
   "source": [
    "El dataset tiene muchas columnas que no nos van a aportar información, por lo que revisamos el nombre de las columnas y retiramos las que ya no son necesarias.\n",
    "\n",
    "La descripción de las columnas del dataset es la siguiente:\n",
    "\n"
   ]
  },
  {
   "cell_type": "code",
   "execution_count": 8,
   "id": "92dedf09",
   "metadata": {
    "scrolled": true
   },
   "outputs": [
    {
     "data": {
      "text/plain": [
       "Index(['ID', 'Name', 'Age', 'Photo', 'Nationality', 'Flag', 'Overall',\n",
       "       'Potential', 'Club', 'Club Logo', 'Value', 'Wage', 'Special',\n",
       "       'Preferred Foot', 'International Reputation', 'Weak Foot',\n",
       "       'Skill Moves', 'Work Rate', 'Body Type', 'Real Face', 'Position',\n",
       "       'Jersey Number', 'Joined', 'Loaned From', 'Contract Valid Until',\n",
       "       'Height', 'Weight', 'LS', 'ST', 'RS', 'LW', 'LF', 'CF', 'RF', 'RW',\n",
       "       'LAM', 'CAM', 'RAM', 'LM', 'LCM', 'CM', 'RCM', 'RM', 'LWB', 'LDM',\n",
       "       'CDM', 'RDM', 'RWB', 'LB', 'LCB', 'CB', 'RCB', 'RB', 'Crossing',\n",
       "       'Finishing', 'HeadingAccuracy', 'ShortPassing', 'Volleys', 'Dribbling',\n",
       "       'Curve', 'FKAccuracy', 'LongPassing', 'BallControl', 'Acceleration',\n",
       "       'SprintSpeed', 'Agility', 'Reactions', 'Balance', 'ShotPower',\n",
       "       'Jumping', 'Stamina', 'Strength', 'LongShots', 'Aggression',\n",
       "       'Interceptions', 'Positioning', 'Vision', 'Penalties', 'Composure',\n",
       "       'Marking', 'StandingTackle', 'SlidingTackle', 'GKDiving', 'GKHandling',\n",
       "       'GKKicking', 'GKPositioning', 'GKReflexes', 'Release Clause'],\n",
       "      dtype='object')"
      ]
     },
     "execution_count": 8,
     "metadata": {},
     "output_type": "execute_result"
    }
   ],
   "source": [
    "data.column"
   ]
  },
  {
   "cell_type": "markdown",
   "id": "8e592e89",
   "metadata": {},
   "source": [
    "Las columnas repre"
   ]
  },
  {
   "cell_type": "markdown",
   "id": "8aa22575",
   "metadata": {},
   "source": [
    "Nos sobrarían"
   ]
  }
 ],
 "metadata": {
  "kernelspec": {
   "display_name": "Python 3",
   "language": "python",
   "name": "python3"
  },
  "language_info": {
   "codemirror_mode": {
    "name": "ipython",
    "version": 3
   },
   "file_extension": ".py",
   "mimetype": "text/x-python",
   "name": "python",
   "nbconvert_exporter": "python",
   "pygments_lexer": "ipython3",
   "version": "3.7.6"
  }
 },
 "nbformat": 4,
 "nbformat_minor": 5
}
